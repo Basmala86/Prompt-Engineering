{
 "cells": [
  {
   "cell_type": "code",
   "execution_count": 2,
   "id": "26851b09",
   "metadata": {},
   "outputs": [
    {
     "name": "stderr",
     "output_type": "stream",
     "text": [
      "The attention mask and the pad token id were not set. As a consequence, you may observe unexpected behavior. Please pass your input's `attention_mask` to obtain reliable results.\n",
      "Setting `pad_token_id` to `eos_token_id`:50256 for open-end generation.\n"
     ]
    },
    {
     "name": "stdout",
     "output_type": "stream",
     "text": [
      "GPT-2 model and tokenizer loaded successfully!\n",
      "\n",
      "Generating outputs for each prompt type:\n",
      "\n",
      "Prompt Type: Direct instruction\n",
      "Prompt: Write a motivational quote about perseverance in the face of adversity.\n"
     ]
    },
    {
     "name": "stderr",
     "output_type": "stream",
     "text": [
      "The attention mask and the pad token id were not set. As a consequence, you may observe unexpected behavior. Please pass your input's `attention_mask` to obtain reliable results.\n",
      "Setting `pad_token_id` to `eos_token_id`:50256 for open-end generation.\n"
     ]
    },
    {
     "name": "stdout",
     "output_type": "stream",
     "text": [
      "Output 1: Write a motivational quote about perseverance in the face of adversity.\n",
      "\n",
      "\"I've learned to be more open than I've ever been in my life,\" said Ryan. \"I feel like I'm trying to make it through this.\"\n",
      "- Download the MP3 of \"The Power of Positive\n",
      "Output 2: Write a motivational quote about perseverance in the face of adversity.\n",
      "\n",
      "I used to tell people to take responsibility for their actions. Then I'd get a lot of feedback from them. The problem was that I was not sure how to do it. But I did. And then I thought,\n",
      "Output 3: Write a motivational quote about perseverance in the face of adversity. \"We are not going to be able to take it all on ourselves,\" said the writer, \"we are going into it with our own hands.\"\n",
      "\n",
      "I was a little startled to read this, but it is a great way\n",
      "\n",
      "--------------------------------------------------------------------------------\n",
      "\n",
      "Prompt Type: Scenario-based\n",
      "Prompt: Imagine you're coaching an athlete who wants to quit after a major loss. Write something encouraging to them.\n"
     ]
    },
    {
     "name": "stderr",
     "output_type": "stream",
     "text": [
      "The attention mask and the pad token id were not set. As a consequence, you may observe unexpected behavior. Please pass your input's `attention_mask` to obtain reliable results.\n",
      "Setting `pad_token_id` to `eos_token_id`:50256 for open-end generation.\n"
     ]
    },
    {
     "name": "stdout",
     "output_type": "stream",
     "text": [
      "Output 1: Imagine you're coaching an athlete who wants to quit after a major loss. Write something encouraging to them. Give them a little time to think.\n",
      "\n",
      "Don't give up on them too soon. They're not going to be able to beat you in the next few weeks. Don't wait.\n",
      "Output 2: Imagine you're coaching an athlete who wants to quit after a major loss. Write something encouraging to them. Don't tell them that you want them to \"go back to training\". Write a few things that they won't like. You want to make them feel like they can be part of a team\n",
      "Output 3: Imagine you're coaching an athlete who wants to quit after a major loss. Write something encouraging to them.\n",
      "\n",
      "\"I just wish they didn't have to go through that.\"\n",
      ".\n",
      "\n",
      "--------------------------------------------------------------------------------\n",
      "\n",
      "Prompt Type: Persona-based\n",
      "Prompt: As a successful entrepreneur who failed many times before succeeding, write a quote about resilience.\n"
     ]
    },
    {
     "name": "stderr",
     "output_type": "stream",
     "text": [
      "The attention mask and the pad token id were not set. As a consequence, you may observe unexpected behavior. Please pass your input's `attention_mask` to obtain reliable results.\n",
      "Setting `pad_token_id` to `eos_token_id`:50256 for open-end generation.\n"
     ]
    },
    {
     "name": "stdout",
     "output_type": "stream",
     "text": [
      "Output 1: As a successful entrepreneur who failed many times before succeeding, write a quote about resilience.\n",
      "\n",
      "\"I don't know what it takes to be a good person,\" says the author. \"I know that every day there are people who are doing it, who work hard, and who believe in the\n",
      "Output 2: As a successful entrepreneur who failed many times before succeeding, write a quote about resilience.\n",
      "\n",
      "\"You can't be so resilient in your own mind, you have to be able to make sure you're not just as effective as you think you are, or you won't do the job.\"\n",
      "\n",
      "Output 3: As a successful entrepreneur who failed many times before succeeding, write a quote about resilience. It would be nice to hear from you.\n",
      "\n",
      "1. I'd like to know how you feel about the current state of your business. Did you lose your job because of this, or did you continue to\n",
      "\n",
      "--------------------------------------------------------------------------------\n",
      "\n",
      "Prompt Type: Keyword-based\n",
      "Prompt: Using the words 'courage', 'journey', and 'success', write something inspiring.\n"
     ]
    },
    {
     "name": "stderr",
     "output_type": "stream",
     "text": [
      "The attention mask and the pad token id were not set. As a consequence, you may observe unexpected behavior. Please pass your input's `attention_mask` to obtain reliable results.\n",
      "Setting `pad_token_id` to `eos_token_id`:50256 for open-end generation.\n"
     ]
    },
    {
     "name": "stdout",
     "output_type": "stream",
     "text": [
      "Output 1: Using the words 'courage', 'journey', and 'success', write something inspiring. Write about it, and make it a point to share.\n",
      "\n",
      "We're now trying to get people to be more optimistic about their goals, their hopes, fears and aspirations. They might not like it\n",
      "Output 2: Using the words 'courage', 'journey', and 'success', write something inspiring. And we can all do that.\n",
      "\n",
      "If you want to be successful in life, you need to create what you can. If you're looking for inspiration, consider how you could get more out of\n",
      "Output 3: Using the words 'courage', 'journey', and 'success', write something inspiring.\n",
      "\n",
      "\n",
      "It's not a good thing that you're being bullied. It's just a bad thing. I am not here to make any excuses. If you don't give me advice, I won't\n",
      "\n",
      "--------------------------------------------------------------------------------\n",
      "\n",
      "Prompt Type: Conversational\n",
      "Prompt: User: I'm thinking about giving up on my dreams. GPT-2: Here's some motivation for you:\n",
      "Output 1: User: I'm thinking about giving up on my dreams. GPT-2: Here's some motivation for you: 1. I want to be a human. 2. This is going to involve a lot of physical activity. 3. No matter what I do, I will be able to learn\n",
      "Output 2: User: I'm thinking about giving up on my dreams. GPT-2: Here's some motivation for you: 1. You have a passion for the game and are willing to put in the work to make it happen. 2. The fact that you are a developer has taught you a lot\n",
      "Output 3: User: I'm thinking about giving up on my dreams. GPT-2: Here's some motivation for you: You were the one who was trying to get me to go. You got me thinking of a good way to motivate yourself. I can't even remember a time when I didn't\n",
      "\n",
      "--------------------------------------------------------------------------------\n",
      "\n",
      "Human Reference Quote:\n",
      "\n",
      "Success is not final, failure is not fatal: It is the courage to continue that counts. \n",
      "- Winston Churchill\n",
      "\n",
      "\n",
      "\n",
      "Calculating BERTScore...\n"
     ]
    },
    {
     "name": "stderr",
     "output_type": "stream",
     "text": [
      "Some weights of RobertaModel were not initialized from the model checkpoint at roberta-large and are newly initialized: ['pooler.dense.bias', 'pooler.dense.weight']\n",
      "You should probably TRAIN this model on a down-stream task to be able to use it for predictions and inference.\n"
     ]
    },
    {
     "name": "stdout",
     "output_type": "stream",
     "text": [
      "calculating scores...\n",
      "computing bert embedding.\n"
     ]
    },
    {
     "name": "stderr",
     "output_type": "stream",
     "text": [
      "100%|██████████| 1/1 [00:21<00:00, 21.62s/it]\n"
     ]
    },
    {
     "name": "stdout",
     "output_type": "stream",
     "text": [
      "computing greedy matching.\n"
     ]
    },
    {
     "name": "stderr",
     "output_type": "stream",
     "text": [
      "100%|██████████| 1/1 [00:00<00:00, 20.74it/s]\n"
     ]
    },
    {
     "name": "stdout",
     "output_type": "stream",
     "text": [
      "done in 21.71 seconds, 0.69 sentences/sec\n",
      "\n",
      "Results Summary:\n",
      "       Prompt Type  Output #  BERTScore F1\n",
      "Direct instruction         1        0.8285\n",
      "Direct instruction         2        0.8335\n",
      "Direct instruction         3        0.8413\n",
      "    Scenario-based         1        0.8350\n",
      "    Scenario-based         2        0.8248\n",
      "    Scenario-based         3        0.8331\n",
      "     Persona-based         1        0.8329\n",
      "     Persona-based         2        0.8365\n",
      "     Persona-based         3        0.8258\n",
      "     Keyword-based         1        0.8305\n",
      "     Keyword-based         2        0.8240\n",
      "     Keyword-based         3        0.8324\n",
      "    Conversational         1        0.8240\n",
      "    Conversational         2        0.8304\n",
      "    Conversational         3        0.8232\n",
      "\n",
      "\n",
      "Complete Results:\n",
      "       Prompt Type  Output #                                                                                                                                                                                                                                                                       Generated Text  BERTScore F1\n",
      "Direct instruction         1                                 Write a motivational quote about perseverance in the face of adversity.\\n\\n\"I've learned to be more open than I've ever been in my life,\" said Ryan. \"I feel like I'm trying to make it through this.\"\\n- Download the MP3 of \"The Power of Positive        0.8285\n",
      "Direct instruction         2                Write a motivational quote about perseverance in the face of adversity.\\n\\nI used to tell people to take responsibility for their actions. Then I'd get a lot of feedback from them. The problem was that I was not sure how to do it. But I did. And then I thought,        0.8335\n",
      "Direct instruction         3                        Write a motivational quote about perseverance in the face of adversity. \"We are not going to be able to take it all on ourselves,\" said the writer, \"we are going into it with our own hands.\"\\n\\nI was a little startled to read this, but it is a great way        0.8413\n",
      "    Scenario-based         1                       Imagine you're coaching an athlete who wants to quit after a major loss. Write something encouraging to them. Give them a little time to think.\\n\\nDon't give up on them too soon. They're not going to be able to beat you in the next few weeks. Don't wait.        0.8350\n",
      "    Scenario-based         2       Imagine you're coaching an athlete who wants to quit after a major loss. Write something encouraging to them. Don't tell them that you want them to \"go back to training\". Write a few things that they won't like. You want to make them feel like they can be part of a team        0.8248\n",
      "    Scenario-based         3                                                                                                               Imagine you're coaching an athlete who wants to quit after a major loss. Write something encouraging to them.\\n\\n\"I just wish they didn't have to go through that.\"\\n.        0.8331\n",
      "     Persona-based         1          As a successful entrepreneur who failed many times before succeeding, write a quote about resilience.\\n\\n\"I don't know what it takes to be a good person,\" says the author. \"I know that every day there are people who are doing it, who work hard, and who believe in the        0.8329\n",
      "     Persona-based         2                As a successful entrepreneur who failed many times before succeeding, write a quote about resilience.\\n\\n\"You can't be so resilient in your own mind, you have to be able to make sure you're not just as effective as you think you are, or you won't do the job.\"\\n        0.8365\n",
      "     Persona-based         3 As a successful entrepreneur who failed many times before succeeding, write a quote about resilience. It would be nice to hear from you.\\n\\n1. I'd like to know how you feel about the current state of your business. Did you lose your job because of this, or did you continue to        0.8258\n",
      "     Keyword-based         1                  Using the words 'courage', 'journey', and 'success', write something inspiring. Write about it, and make it a point to share.\\n\\nWe're now trying to get people to be more optimistic about their goals, their hopes, fears and aspirations. They might not like it        0.8305\n",
      "     Keyword-based         2                          Using the words 'courage', 'journey', and 'success', write something inspiring. And we can all do that.\\n\\nIf you want to be successful in life, you need to create what you can. If you're looking for inspiration, consider how you could get more out of        0.8240\n",
      "     Keyword-based         3                                                 Using the words 'courage', 'journey', and 'success', write something inspiring.\\n\\n\\nIt's not a good thing that you're being bullied. It's just a bad thing. I am not here to make any excuses. If you don't give me advice, I won't        0.8324\n",
      "    Conversational         1                                                             User: I'm thinking about giving up on my dreams. GPT-2: Here's some motivation for you: 1. I want to be a human. 2. This is going to involve a lot of physical activity. 3. No matter what I do, I will be able to learn        0.8240\n",
      "    Conversational         2                                           User: I'm thinking about giving up on my dreams. GPT-2: Here's some motivation for you: 1. You have a passion for the game and are willing to put in the work to make it happen. 2. The fact that you are a developer has taught you a lot        0.8304\n",
      "    Conversational         3                                          User: I'm thinking about giving up on my dreams. GPT-2: Here's some motivation for you: You were the one who was trying to get me to go. You got me thinking of a good way to motivate yourself. I can't even remember a time when I didn't        0.8232\n",
      "\n",
      "\n",
      "SUBMISSION CHECKLIST:\n",
      "1. ✅ 5 distinct prompts\n",
      "2. ✅ 15 GPT-2 outputs (3 per prompt)\n",
      "3. ✅ 1 human-written reference\n",
      "4. ✅ BERTScore output table\n"
     ]
    }
   ],
   "source": [
    "# Import required libraries\n",
    "import torch\n",
    "from transformers import GPT2LMHeadModel, GPT2Tokenizer\n",
    "from bert_score import score as bert_score\n",
    "import pandas as pd\n",
    "\n",
    "# Part 1 - Load GPT-2 Model\n",
    "model_name = \"gpt2\"\n",
    "tokenizer = GPT2Tokenizer.from_pretrained(model_name)\n",
    "model = GPT2LMHeadModel.from_pretrained(model_name)\n",
    "tokenizer.pad_token = tokenizer.eos_token\n",
    "print(\"GPT-2 model and tokenizer loaded successfully!\\n\")\n",
    "\n",
    "# Part 2 - Design Prompts and Generate Outputs\n",
    "def generate_text(prompt, num_return_sequences=1, max_length=50):\n",
    "    inputs = tokenizer(prompt, return_tensors=\"pt\", padding=True, truncation=True)\n",
    "    outputs = model.generate(\n",
    "        inputs.input_ids,\n",
    "        max_length=max_length,\n",
    "        num_return_sequences=num_return_sequences,\n",
    "        no_repeat_ngram_size=2,\n",
    "        do_sample=True,\n",
    "        top_k=50,\n",
    "        top_p=0.95,\n",
    "        temperature=0.7\n",
    "    )\n",
    "    return [tokenizer.decode(output, skip_special_tokens=True) for output in outputs]\n",
    "\n",
    "prompts = {\n",
    "    \"Direct instruction\": \"Write a motivational quote about perseverance in the face of adversity.\",\n",
    "    \"Scenario-based\": \"Imagine you're coaching an athlete who wants to quit after a major loss. Write something encouraging to them.\",\n",
    "    \"Persona-based\": \"As a successful entrepreneur who failed many times before succeeding, write a quote about resilience.\",\n",
    "    \"Keyword-based\": \"Using the words 'courage', 'journey', and 'success', write something inspiring.\",\n",
    "    \"Conversational\": \"User: I'm thinking about giving up on my dreams. GPT-2: Here's some motivation for you:\"\n",
    "}\n",
    "\n",
    "outputs = {}\n",
    "print(\"Generating outputs for each prompt type:\\n\")\n",
    "for prompt_type, prompt in prompts.items():\n",
    "    print(f\"Prompt Type: {prompt_type}\")\n",
    "    print(f\"Prompt: {prompt}\")\n",
    "    outputs[prompt_type] = generate_text(prompt, num_return_sequences=3, max_length=60)\n",
    "    for i, output in enumerate(outputs[prompt_type]):\n",
    "        print(f\"Output {i+1}: {output}\")\n",
    "    print(\"\\n\" + \"-\"*80 + \"\\n\")\n",
    "\n",
    "# Part 3 - Human-Written Reference\n",
    "human_reference = \"\"\"\n",
    "Success is not final, failure is not fatal: It is the courage to continue that counts. \n",
    "- Winston Churchill\n",
    "\"\"\"\n",
    "print(\"Human Reference Quote:\")\n",
    "print(human_reference)\n",
    "print(\"\\n\")\n",
    "\n",
    "# Part 4 - Evaluate Outputs Using BERTScore\n",
    "all_generated = []\n",
    "for prompt_type in outputs:\n",
    "    all_generated.extend(outputs[prompt_type])\n",
    "\n",
    "references = [human_reference] * len(all_generated)\n",
    "print(\"Calculating BERTScore...\")\n",
    "P, R, F1 = bert_score(all_generated, references, lang=\"en\", verbose=True)\n",
    "\n",
    "# Part 5 - Results Table\n",
    "results = []\n",
    "index = 0\n",
    "for prompt_type in outputs:\n",
    "    for i in range(3):\n",
    "        results.append({\n",
    "            \"Prompt Type\": prompt_type,\n",
    "            \"Output #\": i+1,\n",
    "            \"Generated Text\": outputs[prompt_type][i],\n",
    "            \"BERTScore F1\": round(F1[index].item(), 4)\n",
    "        })\n",
    "        index += 1\n",
    "\n",
    "results_df = pd.DataFrame(results)\n",
    "pd.set_option('display.max_colwidth', None)\n",
    "\n",
    "print(\"\\nResults Summary:\")\n",
    "print(results_df[[\"Prompt Type\", \"Output #\", \"BERTScore F1\"]].to_string(index=False))\n",
    "\n",
    "print(\"\\n\\nComplete Results:\")\n",
    "print(results_df.to_string(index=False))\n",
    "\n",
    "# Submission Checklist\n",
    "print(\"\\n\\nSUBMISSION CHECKLIST:\")\n",
    "print(\"1. ✅ 5 distinct prompts\")\n",
    "print(\"2. ✅ 15 GPT-2 outputs (3 per prompt)\")\n",
    "print(\"3. ✅ 1 human-written reference\")\n",
    "print(\"4. ✅ BERTScore output table\")"
   ]
  }
 ],
 "metadata": {
  "kernelspec": {
   "display_name": "Python 3",
   "language": "python",
   "name": "python3"
  },
  "language_info": {
   "codemirror_mode": {
    "name": "ipython",
    "version": 3
   },
   "file_extension": ".py",
   "mimetype": "text/x-python",
   "name": "python",
   "nbconvert_exporter": "python",
   "pygments_lexer": "ipython3",
   "version": "3.10.11"
  }
 },
 "nbformat": 4,
 "nbformat_minor": 5
}
